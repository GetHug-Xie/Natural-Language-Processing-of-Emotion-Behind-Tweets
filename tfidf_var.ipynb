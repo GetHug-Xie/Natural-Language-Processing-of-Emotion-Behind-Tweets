{
 "cells": [
  {
   "cell_type": "markdown",
   "id": "4c4dccc0",
   "metadata": {},
   "source": [
    "### This python file chooses TFIDF vectorization\n",
    "### There  is another file using BoW vectorization"
   ]
  },
  {
   "cell_type": "markdown",
   "id": "60f82807",
   "metadata": {},
   "source": [
    "### Data Preprocessing"
   ]
  },
  {
   "cell_type": "code",
   "execution_count": 1,
   "id": "3a13b57d",
   "metadata": {},
   "outputs": [],
   "source": [
    "import pandas as pd\n",
    "\n",
    "train_data = pd.read_csv(\"Train.csv\", sep=',')\n",
    "test_data = pd.read_csv(\"Test.csv\", sep=',')"
   ]
  },
  {
   "cell_type": "code",
   "execution_count": 2,
   "id": "9675104b",
   "metadata": {},
   "outputs": [
    {
     "name": "stdout",
     "output_type": "stream",
     "text": [
      "Train length: 21802\n",
      "Test length: 6099\n"
     ]
    }
   ],
   "source": [
    "#separating instance and label for Train\n",
    "X_train_raw = [x[0] for x in train_data[['text']].values]\n",
    "Y_train = [x[0] for x in train_data[['sentiment']].values]\n",
    "\n",
    "#check the result\n",
    "print(\"Train length:\",len(X_train_raw))\n",
    "\n",
    "#separating instance and label for Test\n",
    "X_test_raw = [x[0] for x in test_data[['text']].values]\n",
    "\n",
    "#check the result\n",
    "print(\"Test length:\",len(X_test_raw))"
   ]
  },
  {
   "cell_type": "code",
   "execution_count": 3,
   "id": "07e718b8",
   "metadata": {},
   "outputs": [],
   "source": [
    "# A cleaning function to get rid of words with low analyzing values\n",
    "# Keep the necessary texts only to make the analysis efficient and reliable\n",
    "\n",
    "from bs4 import BeautifulSoup\n",
    "import spacy\n",
    "import unidecode\n",
    "from word2number import w2n\n",
    "import contractions\n",
    "\n",
    "nlp = spacy.load('en_core_web_md')\n",
    "\n",
    "# exclude words from spacy stopwords list\n",
    "deselect_stop_words = ['no', 'not']\n",
    "for w in deselect_stop_words:\n",
    "    nlp.vocab[w].is_stop = False\n",
    "\n",
    "\n",
    "def strip_html_tags(text):\n",
    "    \"\"\"remove html tags from text\"\"\"\n",
    "    soup = BeautifulSoup(text, \"html.parser\")\n",
    "    stripped_text = soup.get_text(separator=\" \")\n",
    "    return stripped_text\n",
    "\n",
    "\n",
    "def remove_whitespace(text):\n",
    "    \"\"\"remove extra whitespaces from text\"\"\"\n",
    "    text = text.strip()\n",
    "    return \" \".join(text.split())\n",
    "\n",
    "\n",
    "def remove_accented_chars(text):\n",
    "    \"\"\"remove accented characters from text, e.g. café\"\"\"\n",
    "    text = unidecode.unidecode(text)\n",
    "    return text\n",
    "\n",
    "\n",
    "def expand_contractions(text):\n",
    "    \"\"\"expand shortened words, e.g. don't to do not\"\"\"\n",
    "    text = contractions.fix(text)\n",
    "    return text\n",
    "\n",
    "\n",
    "def text_preprocessing(text, accented_chars=True, contractions=True, \n",
    "                       convert_num=True, extra_whitespace=True, \n",
    "                       lemmatization=True, lowercase=True, punctuations=True,\n",
    "                       remove_html=True, remove_num=True, special_chars=True, \n",
    "                       stop_words=True):\n",
    "    \"\"\"preprocess text with default option set to true for all steps\"\"\"\n",
    "    if remove_html == True: #remove html tags\n",
    "        text = strip_html_tags(text)\n",
    "    if extra_whitespace == True: #remove extra whitespaces\n",
    "        text = remove_whitespace(text)\n",
    "    if accented_chars == True: #remove accented characters\n",
    "        text = remove_accented_chars(text)\n",
    "    if contractions == True: #expand contractions\n",
    "        text = expand_contractions(text)\n",
    "    if lowercase == True: #convert all characters to lowercase\n",
    "        text = text.lower()\n",
    "\n",
    "    doc = nlp(text) #tokenise text\n",
    "\n",
    "    clean_text = []\n",
    "    \n",
    "    for token in doc:\n",
    "        flag = True\n",
    "        edit = token.text\n",
    "        # remove stop words\n",
    "        if stop_words == True and token.is_stop and token.pos_ != 'NUM': \n",
    "            flag = False\n",
    "        # remove punctuations\n",
    "        if punctuations == True and token.pos_ == 'PUNCT' and flag == True: \n",
    "            flag = False\n",
    "        # remove special characters\n",
    "        if special_chars == True and token.pos_ == 'SYM' and flag == True: \n",
    "            flag = False\n",
    "        # remove numbers\n",
    "        if remove_num == True and (token.pos_ == 'NUM' or token.text.isnumeric()) \\\n",
    "        and flag == True:\n",
    "            flag = False\n",
    "        # convert number words to numeric numbers\n",
    "        if convert_num == True and token.pos_ == 'NUM' and flag == True:\n",
    "            edit = w2n.word_to_num(token.text)\n",
    "        # convert tokens to base form\n",
    "        elif lemmatization == True and token.lemma_ != \"-PRON-\" and flag == True:\n",
    "            edit = token.lemma_\n",
    "        # append tokens edited and not removed to list \n",
    "        if edit != \"\" and flag == True:\n",
    "            clean_text.append(edit)        \n",
    "    return clean_text"
   ]
  },
  {
   "cell_type": "code",
   "execution_count": 4,
   "id": "3cfce5df",
   "metadata": {},
   "outputs": [
    {
     "name": "stderr",
     "output_type": "stream",
     "text": [
      "C:\\Users\\643944.STUDENT\\AppData\\Local\\Programs\\Python\\Python310\\lib\\site-packages\\bs4\\__init__.py:435: MarkupResemblesLocatorWarning: The input looks more like a filename than markup. You may want to open this file and pass the filehandle into Beautiful Soup.\n",
      "  warnings.warn(\n"
     ]
    }
   ],
   "source": [
    "# Use the function defined above to clean X_train_raw and X_test_raw\n",
    "\n",
    "X_train_clean = []\n",
    "for curr_text in X_train_raw:\n",
    "    cleaned_text = text_preprocessing(curr_text, accented_chars=True, contractions=True, \n",
    "                       convert_num=True, extra_whitespace=True, \n",
    "                       lemmatization=True, lowercase=True, punctuations=True,\n",
    "                       remove_html=True, remove_num=True, special_chars=True, \n",
    "                       stop_words=True)\n",
    "    X_train_clean.append(\" \".join(cleaned_text))\n",
    "    \n",
    "X_test_clean = []\n",
    "for curr_text in X_test_raw:\n",
    "    cleaned_text = text_preprocessing(curr_text, accented_chars=True, contractions=True, \n",
    "                       convert_num=True, extra_whitespace=True, \n",
    "                       lemmatization=True, lowercase=True, punctuations=True,\n",
    "                       remove_html=True, remove_num=True, special_chars=True, \n",
    "                       stop_words=True)\n",
    "    X_test_clean.append(\" \".join(cleaned_text))"
   ]
  },
  {
   "cell_type": "code",
   "execution_count": 6,
   "id": "ffa1dd60",
   "metadata": {},
   "outputs": [],
   "source": [
    "import numpy as np\n",
    "from sklearn.model_selection import train_test_split\n",
    "\n",
    "# the ratio of test_data on train_data is approximately 0.28\n",
    "X_sub_train, X_valid, Y_sub_train, Y_valid = train_test_split(X_train_clean, Y_train, test_size=0.28)"
   ]
  },
  {
   "cell_type": "markdown",
   "id": "7128aff3",
   "metadata": {},
   "source": [
    "### This python file chooses TFIDF vectorization\n",
    "### There  is another file using BoW vectorization"
   ]
  },
  {
   "cell_type": "markdown",
   "id": "55c344a5",
   "metadata": {},
   "source": [
    "### 2. TFIDF\n",
    "In this approach, we use the **TfidfVectorizer** library to separate all the words in this corpus (dataset). Same as the BoW approach, these words are then used as the 'vectors' or 'features' to represent each instance (Tweet).\n",
    "\n",
    "However, in this method for each instance the value associated with each 'vector' (word) is not the number of times the word repeated in that tweet, but the TFIDF value of then 'voctor' (word)."
   ]
  },
  {
   "cell_type": "code",
   "execution_count": 7,
   "id": "7c9951a9",
   "metadata": {},
   "outputs": [
    {
     "name": "stdout",
     "output_type": "stream",
     "text": [
      "Train feature space size (using TFIDF): (15697, 30795)\n",
      "Validation feature space size (using TFIDF): (6105, 30795)\n",
      "Test feature space size (using TFIDF): (6099, 30795)\n"
     ]
    }
   ],
   "source": [
    "from sklearn.feature_extraction.text import TfidfVectorizer\n",
    "\n",
    "tfidf_vectorizer = TfidfVectorizer()\n",
    "\n",
    "#Build the feature set (vocabulary) and vectorise the Tarin dataset using TFIDF\n",
    "X_train_tfidf = tfidf_vectorizer.fit_transform(X_sub_train)\n",
    "X_valid_tfidf = tfidf_vectorizer.transform(X_valid)\n",
    "\n",
    "#Use the feature set (vocabulary) from Train to vectorise the Test dataset \n",
    "X_test_tfidf = tfidf_vectorizer.transform(X_test_clean)\n",
    "\n",
    "print(\"Train feature space size (using TFIDF):\",X_train_tfidf.shape)\n",
    "print(\"Validation feature space size (using TFIDF):\",X_valid_tfidf.shape)\n",
    "print(\"Test feature space size (using TFIDF):\",X_test_tfidf.shape)"
   ]
  },
  {
   "cell_type": "code",
   "execution_count": 8,
   "id": "6b26b900",
   "metadata": {
    "collapsed": true
   },
   "outputs": [
    {
     "name": "stdout",
     "output_type": "stream",
     "text": [
      "  (0, 12117)\t0.238440836825062\n",
      "  (0, 28257)\t0.24706352657129854\n",
      "  (0, 29790)\t0.22669248066719974\n",
      "  (0, 26543)\t0.39751621077400817\n",
      "  (0, 29128)\t0.17979520784927566\n",
      "  (0, 23131)\t0.29227411737861403\n",
      "  (0, 28268)\t0.337535606302446\n",
      "  (0, 23922)\t0.25091023358638864\n",
      "  (0, 17947)\t0.18206462841255977\n",
      "  (0, 29800)\t0.34223263698072587\n",
      "  (0, 12493)\t0.2435554490034625\n",
      "  (0, 12769)\t0.24313786750334185\n",
      "  (0, 16095)\t0.1573091387157878\n",
      "  (0, 8261)\t0.2908747222554002\n"
     ]
    }
   ],
   "source": [
    "#Let's see one example tweet using the TFIDF feature space\n",
    "print(X_train_tfidf[1])"
   ]
  },
  {
   "cell_type": "markdown",
   "id": "f8e8db6d",
   "metadata": {},
   "source": [
    "### Feature Selection"
   ]
  },
  {
   "cell_type": "code",
   "execution_count": 50,
   "id": "a2941e58",
   "metadata": {},
   "outputs": [
    {
     "name": "stdout",
     "output_type": "stream",
     "text": [
      "(15697, 1680)\n",
      "(6105, 1680)\n",
      "(6099, 1680)\n"
     ]
    }
   ],
   "source": [
    "from sklearn.feature_selection import VarianceThreshold\n",
    "selector = VarianceThreshold(threshold=0.0001)\n",
    "X_var_train = selector.fit_transform(X_train_tfidf)\n",
    "print(X_var_train.shape)\n",
    "X_var_valid = selector.transform(X_valid_tfidf)\n",
    "print(X_var_valid.shape)\n",
    "X_var_test = selector.transform(X_test_tfidf)\n",
    "print(X_var_test.shape)"
   ]
  },
  {
   "cell_type": "markdown",
   "id": "010f3da5",
   "metadata": {},
   "source": [
    "### Models Selection"
   ]
  },
  {
   "cell_type": "markdown",
   "id": "6d5b0db9",
   "metadata": {},
   "source": [
    "0-R Baseline model"
   ]
  },
  {
   "cell_type": "code",
   "execution_count": 11,
   "id": "aaa8f814",
   "metadata": {},
   "outputs": [
    {
     "name": "stdout",
     "output_type": "stream",
     "text": [
      "Training accuracy:  0.5796011976810855\n",
      "Validation accuracy:  0.5832923832923833\n"
     ]
    }
   ],
   "source": [
    "# Baseline model: Dummy Classifier\n",
    "from sklearn.dummy import DummyClassifier\n",
    "from sklearn.model_selection import cross_val_score\n",
    "\n",
    "model = DummyClassifier(strategy='most_frequent').fit(X_var_train, Y_sub_train)\n",
    "\n",
    "Y_train_predicted = model.predict(X_var_train)\n",
    "print('Training accuracy: ', np.mean(Y_train_predicted == Y_sub_train))\n",
    "\n",
    "lr_acc = np.mean(cross_val_score(model, X_var_valid, Y_valid, cv=5))\n",
    "print('Validation accuracy: ', lr_acc)"
   ]
  },
  {
   "cell_type": "markdown",
   "id": "a9f5551b",
   "metadata": {},
   "source": [
    "Logistic Regression"
   ]
  },
  {
   "cell_type": "code",
   "execution_count": 55,
   "id": "7ef284e7",
   "metadata": {},
   "outputs": [
    {
     "name": "stdout",
     "output_type": "stream",
     "text": [
      "Training accuracy:  0.68943110148436\n",
      "Validation accuracy:  0.6422604422604422\n"
     ]
    }
   ],
   "source": [
    "import numpy as np\n",
    "from sklearn.linear_model import LogisticRegression\n",
    "from sklearn.model_selection import cross_val_score\n",
    "\n",
    "# Logistic Regression\n",
    "lr = LogisticRegression(solver='sag', multi_class='multinomial',C=0.8, max_iter=200).fit(X_var_train, Y_sub_train)\n",
    "\n",
    "Y_train_predicted = lr.predict(X_var_train)\n",
    "print('Training accuracy: ', np.mean(Y_train_predicted == Y_sub_train))\n",
    "\n",
    "lr_acc = np.mean(cross_val_score(lr, X_var_valid, Y_valid, cv=5))\n",
    "print('Validation accuracy: ', lr_acc)"
   ]
  },
  {
   "cell_type": "code",
   "execution_count": 56,
   "id": "c9bd6b7d",
   "metadata": {},
   "outputs": [],
   "source": [
    "LR_label = lr.predict(X_var_test)\n",
    "kaggle_label = {\"id\": test_data.id, \"sentiment\": LR_label}\n",
    "\n",
    "output_pd = pd.DataFrame(kaggle_label)\n",
    "output_pd.to_csv('tfidf_var.csv', index=False)"
   ]
  },
  {
   "cell_type": "markdown",
   "id": "be396be0",
   "metadata": {},
   "source": [
    "Support Vector Machine"
   ]
  },
  {
   "cell_type": "code",
   "execution_count": 21,
   "id": "63116c29",
   "metadata": {},
   "outputs": [
    {
     "name": "stdout",
     "output_type": "stream",
     "text": [
      "Training accuracy:  0.6054660126138752\n",
      "Validation accuracy:  0.585913185913186\n"
     ]
    }
   ],
   "source": [
    "from sklearn.svm import SVC\n",
    "\n",
    "svm = SVC(kernel='linear', C=0.1).fit(X_var_train, Y_sub_train)\n",
    "\n",
    "Y_train_predicted = svm.predict(X_var_train)\n",
    "print('Training accuracy: ', np.mean(Y_train_predicted == Y_sub_train))\n",
    "\n",
    "svm_acc = np.mean(cross_val_score(svm, X_var_valid, Y_valid, cv=5))\n",
    "print('Validation accuracy: ', svm_acc)"
   ]
  },
  {
   "cell_type": "markdown",
   "id": "43047d02",
   "metadata": {},
   "source": [
    "Random Forest"
   ]
  },
  {
   "cell_type": "code",
   "execution_count": 24,
   "id": "837f213d",
   "metadata": {},
   "outputs": [
    {
     "name": "stdout",
     "output_type": "stream",
     "text": [
      "Training accuracy:  0.6054660126138752\n",
      "Validation accuracy:  0.5832923832923833\n"
     ]
    }
   ],
   "source": [
    "import numpy as np\n",
    "from sklearn.ensemble import RandomForestClassifier\n",
    "from sklearn.model_selection import cross_val_score\n",
    "\n",
    "clf_rf = RandomForestClassifier(\n",
    "    criterion = 'entropy',\n",
    "    max_depth = 12,\n",
    "    max_features = 'log2',\n",
    "    min_samples_leaf = 1,\n",
    "    min_samples_split = 5,\n",
    "    n_estimators = 90,\n",
    "    random_state = 6,\n",
    ")\n",
    "clf_rf.fit(X_var_train, Y_sub_train)\n",
    "\n",
    "Y_train_predicted_rf = clf_rf.predict(X_var_train)\n",
    "print('Training accuracy: ', np.mean(Y_train_predicted == Y_sub_train))\n",
    "\n",
    "clf_rf_acc = np.mean(cross_val_score(clf_rf, X_var_valid, Y_valid, cv=5))\n",
    "print('Validation accuracy: ', clf_rf_acc)"
   ]
  },
  {
   "cell_type": "markdown",
   "id": "fa064a58",
   "metadata": {},
   "source": [
    "### Evaluation"
   ]
  },
  {
   "cell_type": "code",
   "execution_count": 51,
   "id": "bb2413bb",
   "metadata": {
    "scrolled": true
   },
   "outputs": [
    {
     "name": "stdout",
     "output_type": "stream",
     "text": [
      "Execution time of 0-R Baseline model classifier: 0.014 s\n",
      "Training accuracy:  0.5796011976810855\n",
      "Validation accuracy:  0.5832923832923833\n",
      "Macro Precision: 0.194431\n",
      "Macro Recall: 0.333333\n",
      "Macro F1 score: 0.245603\n",
      "Weighted Precision: 0.340230\n",
      "Weighted Recall: 0.583292\n",
      "Weighted F1 score: 0.429775\n"
     ]
    },
    {
     "name": "stderr",
     "output_type": "stream",
     "text": [
      "C:\\Users\\643944.STUDENT\\AppData\\Local\\Programs\\Python\\Python310\\lib\\site-packages\\sklearn\\metrics\\_classification.py:1318: UndefinedMetricWarning: Precision is ill-defined and being set to 0.0 in labels with no predicted samples. Use `zero_division` parameter to control this behavior.\n",
      "  _warn_prf(average, modifier, msg_start, len(result))\n",
      "C:\\Users\\643944.STUDENT\\AppData\\Local\\Programs\\Python\\Python310\\lib\\site-packages\\sklearn\\metrics\\_classification.py:1318: UndefinedMetricWarning: Precision is ill-defined and being set to 0.0 in labels with no predicted samples. Use `zero_division` parameter to control this behavior.\n",
      "  _warn_prf(average, modifier, msg_start, len(result))\n"
     ]
    }
   ],
   "source": [
    "# Baseline model: Dummy Classifier\n",
    "import numpy as np\n",
    "from sklearn.dummy import DummyClassifier\n",
    "from sklearn.model_selection import cross_val_score\n",
    "import time\n",
    "from sklearn import metrics\n",
    "from sklearn.metrics import accuracy_score\n",
    "from sklearn.metrics import precision_score\n",
    "from sklearn.metrics import recall_score\n",
    "from sklearn.metrics import f1_score\n",
    "\n",
    "# record time start running the model\n",
    "t0 = time.time()\n",
    "\n",
    "# 0-R Baseline model\n",
    "baseline = DummyClassifier(strategy='most_frequent').fit(X_var_train, Y_sub_train)\n",
    "\n",
    "# record time finished then minus the initial time to get the time consumed\n",
    "t1 = time.time() - t0\n",
    "print(\"Execution time of 0-R Baseline model classifier: {} s\".format(round(t1,3)))\n",
    "\n",
    "Y_train_predicted = baseline.predict(X_var_train)\n",
    "print('Training accuracy: ', np.mean(Y_train_predicted == Y_sub_train))\n",
    "\n",
    "baseline_acc = np.mean(cross_val_score(baseline, X_var_valid, Y_valid, cv=5))\n",
    "print('Validation accuracy: ', baseline_acc)\n",
    "\n",
    "# baseline_label = baseline.predict(X_var_test)\n",
    "# print(baseline_label.shape)\n",
    "\n",
    "Y_valid_predicted = baseline.predict(X_var_valid)\n",
    "\n",
    "# Compute Macro metrics of the classifier\n",
    "precision = precision_score(Y_valid, Y_valid_predicted, average = 'macro')\n",
    "print('Macro Precision: %f' % precision)\n",
    "\n",
    "# Recall = TP / (TP + FN)\n",
    "recall = recall_score(Y_valid, Y_valid_predicted, average = 'macro')\n",
    "print('Macro Recall: %f' % recall)\n",
    "\n",
    "# F1 = 2 TP / (2 TP + FP + FN)\n",
    "f1 = f1_score(Y_valid, Y_valid_predicted, average = 'macro')\n",
    "print('Macro F1 score: %f' % f1)\n",
    "\n",
    "# Compute Weighted metrics of the classifier\n",
    "precision = precision_score(Y_valid, Y_valid_predicted, average = 'weighted')\n",
    "print('Weighted Precision: %f' % precision)\n",
    "recall = recall_score(Y_valid, Y_valid_predicted, average = 'weighted')\n",
    "print('Weighted Recall: %f' % recall)\n",
    "f1 = f1_score(Y_valid, Y_valid_predicted, average = 'weighted')\n",
    "print('Weighted F1 score: %f' % f1)"
   ]
  },
  {
   "cell_type": "code",
   "execution_count": 52,
   "id": "b0da85fd",
   "metadata": {},
   "outputs": [
    {
     "name": "stdout",
     "output_type": "stream",
     "text": [
      "Execution time of logistic regression classifier: 0.256 s\n",
      "Training accuracy:  0.68943110148436\n",
      "Validation accuracy:  0.6422604422604422\n",
      "Macro Precision: 0.623708\n",
      "Macro Recall: 0.513631\n",
      "Macro F1 score: 0.536931\n",
      "Weighted Precision: 0.640205\n",
      "Weighted Recall: 0.650123\n",
      "Weighted F1 score: 0.621985\n"
     ]
    }
   ],
   "source": [
    "# Logistic Regression\n",
    "from sklearn.linear_model import LogisticRegression\n",
    "\n",
    "# record time start running the model\n",
    "t0 = time.time()\n",
    "\n",
    "# Logestic Regression\n",
    "lr = LogisticRegression(solver='sag', multi_class='multinomial',C=0.8, max_iter=200).fit(X_var_train, Y_sub_train)\n",
    "\n",
    "# record time finished then minus the initial time to get the time consumed\n",
    "t1 = time.time() - t0\n",
    "print(\"Execution time of logistic regression classifier: {} s\".format(round(t1,3)))\n",
    "\n",
    "Y_train_predicted = lr.predict(X_var_train)\n",
    "print('Training accuracy: ', np.mean(Y_train_predicted == Y_sub_train))\n",
    "\n",
    "lr_acc = np.mean(cross_val_score(lr, X_var_valid, Y_valid, cv=5))\n",
    "print('Validation accuracy: ', lr_acc)\n",
    "\n",
    "LR_label = lr.predict(X_var_test)\n",
    "\n",
    "Y_valid_predicted = lr.predict(X_var_valid)\n",
    "\n",
    "# Compute Macro metrics of the classifier\n",
    "precision = precision_score(Y_valid, Y_valid_predicted, average = 'macro')\n",
    "print('Macro Precision: %f' % precision)\n",
    "\n",
    "# Recall = TP / (TP + FN)\n",
    "recall = recall_score(Y_valid, Y_valid_predicted, average = 'macro')\n",
    "print('Macro Recall: %f' % recall)\n",
    "\n",
    "# F1 = 2 TP / (2 TP + FP + FN)\n",
    "f1 = f1_score(Y_valid, Y_valid_predicted, average = 'macro')\n",
    "print('Macro F1 score: %f' % f1)\n",
    "\n",
    "# Compute Weighted metrics of the classifier\n",
    "precision = precision_score(Y_valid, Y_valid_predicted, average = 'weighted')\n",
    "print('Weighted Precision: %f' % precision)\n",
    "recall = recall_score(Y_valid, Y_valid_predicted, average = 'weighted')\n",
    "print('Weighted Recall: %f' % recall)\n",
    "f1 = f1_score(Y_valid, Y_valid_predicted, average = 'weighted')\n",
    "print('Weighted F1 score: %f' % f1)"
   ]
  },
  {
   "cell_type": "code",
   "execution_count": 54,
   "id": "b03c0892",
   "metadata": {},
   "outputs": [
    {
     "name": "stdout",
     "output_type": "stream",
     "text": [
      "Execution time of SVM classifier: 37.814 s\n",
      "Training accuracy:  0.6006880295597885\n",
      "Validation accuracy:  0.5854217854217854\n",
      "Macro Precision: 0.636986\n",
      "Macro Recall: 0.374669\n",
      "Macro F1 score: 0.326955\n",
      "Weighted Precision: 0.635876\n",
      "Weighted Recall: 0.609992\n",
      "Weighted F1 score: 0.493783\n"
     ]
    }
   ],
   "source": [
    "# SVM\n",
    "from sklearn.svm import SVC\n",
    "\n",
    "# record time start running the model\n",
    "t0 = time.time()\n",
    "\n",
    "# SVM \n",
    "svm = SVC(kernel='linear', C=0.1).fit(X_var_train, Y_sub_train)\n",
    "\n",
    "# record time finished then minus the initial time to get the time consumed\n",
    "t1 = time.time() - t0\n",
    "print(\"Execution time of SVM classifier: {} s\".format(round(t1,3)))\n",
    "\n",
    "Y_train_predicted = svm.predict(X_var_train)\n",
    "print('Training accuracy: ', np.mean(Y_train_predicted == Y_sub_train))\n",
    "\n",
    "svm_acc = np.mean(cross_val_score(svm, X_var_valid, Y_valid, cv=5))\n",
    "print('Validation accuracy: ', svm_acc)\n",
    "\n",
    "# LR_label = lr.predict(X_var_test)\n",
    "# print(LR_label.shape)\n",
    "\n",
    "Y_valid_predicted = svm.predict(X_var_valid)\n",
    "\n",
    "# Compute Macro metrics of the classifier\n",
    "precision = precision_score(Y_valid, Y_valid_predicted, average = 'macro')\n",
    "print('Macro Precision: %f' % precision)\n",
    "\n",
    "# Recall = TP / (TP + FN)\n",
    "recall = recall_score(Y_valid, Y_valid_predicted, average = 'macro')\n",
    "print('Macro Recall: %f' % recall)\n",
    "\n",
    "# F1 = 2 TP / (2 TP + FP + FN)\n",
    "f1 = f1_score(Y_valid, Y_valid_predicted, average = 'macro')\n",
    "print('Macro F1 score: %f' % f1)\n",
    "\n",
    "# Compute Weighted metrics of the classifier\n",
    "precision = precision_score(Y_valid, Y_valid_predicted, average = 'weighted')\n",
    "print('Weighted Precision: %f' % precision)\n",
    "recall = recall_score(Y_valid, Y_valid_predicted, average = 'weighted')\n",
    "print('Weighted Recall: %f' % recall)\n",
    "f1 = f1_score(Y_valid, Y_valid_predicted, average = 'weighted')\n",
    "print('Weighted F1 score: %f' % f1)"
   ]
  },
  {
   "cell_type": "code",
   "execution_count": 53,
   "id": "e4008bc4",
   "metadata": {},
   "outputs": [
    {
     "name": "stdout",
     "output_type": "stream",
     "text": [
      "Execution time of Random Forest classifier: 1.373 s\n",
      "Training accuracy:  0.5901764668407976\n",
      "Validation accuracy:  0.5906633906633906\n",
      "Macro Precision: 0.811972\n",
      "Macro Recall: 0.346160\n",
      "Macro F1 score: 0.273080\n",
      "Weighted Precision: 0.722225\n",
      "Weighted Recall: 0.591810\n",
      "Weighted F1 score: 0.451233\n"
     ]
    }
   ],
   "source": [
    "# Random Forest\n",
    "from sklearn.ensemble import RandomForestClassifier\n",
    "\n",
    "# record time start running the model\n",
    "t0 = time.time()\n",
    "\n",
    "# Random Forest model\n",
    "rf = RandomForestClassifier(criterion = 'entropy', max_depth = 12, max_features = 'auto',\n",
    "    min_samples_leaf = 1, min_samples_split = 3, n_estimators = 100, random_state = 6).fit(X_var_train, Y_sub_train)\n",
    "\n",
    "\n",
    "# record time finished then minus the initial time to get the time consumed\n",
    "t1 = time.time() - t0\n",
    "print(\"Execution time of Random Forest classifier: {} s\".format(round(t1,3)))\n",
    "\n",
    "Y_train_predicted = rf.predict(X_var_train)\n",
    "print('Training accuracy: ', np.mean(Y_train_predicted == Y_sub_train))\n",
    "\n",
    "rf_acc = np.mean(cross_val_score(rf, X_var_valid, Y_valid, cv=5))\n",
    "print('Validation accuracy: ', rf_acc)\n",
    "\n",
    "# LR_label = lr.predict(X_var_test)\n",
    "# print(LR_label.shape)\n",
    "\n",
    "Y_valid_predicted = rf.predict(X_var_valid)\n",
    "\n",
    "# Compute Macro metrics of the classifier\n",
    "precision = precision_score(Y_valid, Y_valid_predicted, average = 'macro')\n",
    "print('Macro Precision: %f' % precision)\n",
    "\n",
    "# Recall = TP / (TP + FN)\n",
    "recall = recall_score(Y_valid, Y_valid_predicted, average = 'macro')\n",
    "print('Macro Recall: %f' % recall)\n",
    "\n",
    "# F1 = 2 TP / (2 TP + FP + FN)\n",
    "f1 = f1_score(Y_valid, Y_valid_predicted, average = 'macro')\n",
    "print('Macro F1 score: %f' % f1)\n",
    "\n",
    "# Compute Weighted metrics of the classifier\n",
    "precision = precision_score(Y_valid, Y_valid_predicted, average = 'weighted')\n",
    "print('Weighted Precision: %f' % precision)\n",
    "recall = recall_score(Y_valid, Y_valid_predicted, average = 'weighted')\n",
    "print('Weighted Recall: %f' % recall)\n",
    "f1 = f1_score(Y_valid, Y_valid_predicted, average = 'weighted')\n",
    "print('Weighted F1 score: %f' % f1)"
   ]
  },
  {
   "cell_type": "markdown",
   "id": "a92c1f94",
   "metadata": {},
   "source": [
    "### Error Analysis"
   ]
  },
  {
   "cell_type": "code",
   "execution_count": 30,
   "id": "6d4af7d4",
   "metadata": {},
   "outputs": [
    {
     "name": "stderr",
     "output_type": "stream",
     "text": [
      "C:\\Users\\643944.STUDENT\\AppData\\Local\\Programs\\Python\\Python310\\lib\\site-packages\\sklearn\\utils\\deprecation.py:87: FutureWarning: Function plot_confusion_matrix is deprecated; Function `plot_confusion_matrix` is deprecated in 1.0 and will be removed in 1.2. Use one of the class methods: ConfusionMatrixDisplay.from_predictions or ConfusionMatrixDisplay.from_estimator.\n",
      "  warnings.warn(msg, category=FutureWarning)\n"
     ]
    },
    {
     "data": {
      "image/png": "[encoded data removed]",
      "text/plain": [
       "<Figure size 432x288 with 2 Axes>"
      ]
     },
     "metadata": {
      "needs_background": "light"
     },
     "output_type": "display_data"
    }
   ],
   "source": [
    "# Confusion Matrix\n",
    "import matplotlib.pyplot as plt\n",
    "from sklearn.metrics import plot_confusion_matrix\n",
    "plot_confusion_matrix(lr, X_var_valid, Y_valid, cmap=plt.cm.Blues)\n",
    "plt.show()"
   ]
  }
 ],
 "metadata": {
  "kernelspec": {
   "display_name": "Python 3",
   "language": "python",
   "name": "python3"
  },
  "language_info": {
   "codemirror_mode": {
    "name": "ipython",
    "version": 3
   },
   "file_extension": ".py",
   "mimetype": "text/x-python",
   "name": "python",
   "nbconvert_exporter": "python",
   "pygments_lexer": "ipython3",
   "version": "3.10.2"
  }
 },
 "nbformat": 4,
 "nbformat_minor": 5
}
